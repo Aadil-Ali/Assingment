{
 "cells": [
  {
   "cell_type": "markdown",
   "id": "da17b07b",
   "metadata": {},
   "source": [
    "Q1.\n"
   ]
  },
  {
   "cell_type": "code",
   "execution_count": 1,
   "id": "ef6927b0",
   "metadata": {},
   "outputs": [],
   "source": [
    "list1 = [1,2,3,4 ,[44,55,66,True], False , (34,56,78,89,34) , {1,2,3,3,2,1} , {1:34 , \"key2\" : [55,67,78,89] , 4: (45,22,61,34)} , [56, 'data science'] , 'Machine lerning']"
   ]
  },
  {
   "cell_type": "code",
   "execution_count": 2,
   "id": "408e9c44",
   "metadata": {},
   "outputs": [
    {
     "data": {
      "text/plain": [
       "[1,\n",
       " 2,\n",
       " 3,\n",
       " 4,\n",
       " [44, 55, 66, True],\n",
       " False,\n",
       " (34, 56, 78, 89, 34),\n",
       " {1, 2, 3},\n",
       " {1: 34, 'key2': [55, 67, 78, 89], 4: (45, 22, 61, 34)},\n",
       " [56, 'data science'],\n",
       " 'Machine lerning']"
      ]
     },
     "execution_count": 2,
     "metadata": {},
     "output_type": "execute_result"
    }
   ],
   "source": [
    "list1"
   ]
  },
  {
   "cell_type": "code",
   "execution_count": 3,
   "id": "823cb38a",
   "metadata": {},
   "outputs": [
    {
     "name": "stdout",
     "output_type": "stream",
     "text": [
      "List2 After Filter\n",
      "[1, 2, 3, 4, 44, 55, 66, 34, 56, 78, 89, 34, 1, 2, 3, 1, 4, 56]\n",
      "Product of all number in List2 is : 2315262738624675840\n"
     ]
    }
   ],
   "source": [
    "list2 = []\n",
    "list3 = []\n",
    "for i in list1:\n",
    "    if type(i) == int:\n",
    "        list2.append(i)\n",
    "        \n",
    "    elif type(i) == list:\n",
    "        for j in i:\n",
    "            if type(j) == int:\n",
    "                list2.append(j)\n",
    "            else:\n",
    "                list3.append(j)\n",
    "                \n",
    "    elif type(i) == tuple:\n",
    "        for k in i:\n",
    "            if type(k) == int:\n",
    "                list2.append(k)\n",
    "            else:\n",
    "                list3.append(k)\n",
    "                \n",
    "    elif type(i) == set:\n",
    "        for l in i:\n",
    "            if type(l) == int:\n",
    "                list2.append(l)\n",
    "            else:\n",
    "                list3.append(l)\n",
    "                \n",
    "    elif type(i) == dict:\n",
    "        for m in i:\n",
    "            if type(m) == int:\n",
    "                list2.append(m)\n",
    "            \n",
    "           \n",
    "    else :\n",
    "        list3.append(i)\n",
    "        \n",
    "print(\"List2 After Filter\")\n",
    "print(list2)\n",
    "\n",
    "        \n",
    "result = 1\n",
    "for p in list2:\n",
    "    \n",
    "    result = result * p\n",
    "    \n",
    "print(\"Product of all number in List2 is :\" , result)\n",
    "\n",
    "\n",
    "        \n"
   ]
  },
  {
   "cell_type": "markdown",
   "id": "7af5ce66",
   "metadata": {},
   "source": [
    "Q2."
   ]
  },
  {
   "cell_type": "code",
   "execution_count": 4,
   "id": "56f6657b",
   "metadata": {},
   "outputs": [
    {
     "name": "stdout",
     "output_type": "stream",
     "text": [
      "Write your Santance = I want to become a Data Scientist\n",
      " Your Sentance is :  I want to become a Data Scientist\n",
      "After Encoding : i$wznt$to$yexome$z$dztz$sxientist\n"
     ]
    }
   ],
   "source": [
    "sentance = input(\"Write your Santance = \")\n",
    "\n",
    "print(\" Your Sentance is : \" , sentance)\n",
    "lower = sentance.lower()\n",
    "s1 = lower.replace(\" \" , '$' ,-1)\n",
    "s2 = s1.replace('a' , 'z' ,-1)\n",
    "s3 = s2.replace('b' , 'y' ,-1)\n",
    "encode= s3.replace('c' , 'x' ,-1)\n",
    "\n",
    "print(\"After Encoding :\" , encode)\n",
    "\n",
    "\n",
    "\n",
    "\n",
    "\n",
    "\n",
    "\n",
    "\n",
    "\n",
    "                "
   ]
  },
  {
   "cell_type": "code",
   "execution_count": null,
   "id": "8882faf2",
   "metadata": {},
   "outputs": [],
   "source": [
    "\n"
   ]
  },
  {
   "cell_type": "code",
   "execution_count": null,
   "id": "3511ad1e",
   "metadata": {},
   "outputs": [],
   "source": [
    "real_split."
   ]
  },
  {
   "cell_type": "code",
   "execution_count": null,
   "id": "521bbd90",
   "metadata": {},
   "outputs": [],
   "source": []
  }
 ],
 "metadata": {
  "kernelspec": {
   "display_name": "Python 3 (ipykernel)",
   "language": "python",
   "name": "python3"
  },
  "language_info": {
   "codemirror_mode": {
    "name": "ipython",
    "version": 3
   },
   "file_extension": ".py",
   "mimetype": "text/x-python",
   "name": "python",
   "nbconvert_exporter": "python",
   "pygments_lexer": "ipython3",
   "version": "3.10.8"
  }
 },
 "nbformat": 4,
 "nbformat_minor": 5
}
