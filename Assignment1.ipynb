{
 "cells": [
  {
   "cell_type": "markdown",
   "id": "9c57c8b0-6933-4ee4-94b0-295ca3b65945",
   "metadata": {},
   "source": [
    "Q1. Guido van Rossum\n",
    "\n",
    "Q2. Object Oriented Programming and Structured Programming are supported by Python.\n",
    "\n",
    "Q3. Yes, Python is Case Sensitive language.\n",
    "\n",
    "Q4. .py is extension for python files.\n",
    "\n",
    "Q5. Interpreted \n",
    "\n",
    "Q6. Indentation is used to define a block of code.\n",
    "\n",
    "Q7. hash # used for single line comment in python.\n",
    "\n",
    "Q8. python_version()\n",
    "\n",
    "Q9. lambda \n",
    "\n",
    "Q10. PIP is a package managment system used to install and manage software packages.\n",
    "\n",
    "Q11. Print() , input() , type() , sorted() , max() etc\n",
    "\n",
    "Q12. 79 characters\n",
    "\n",
    "Q13. 1 Python is easy to learn.\n",
    "     2 It is used in Data science and Scientific and mathematical computing.\n",
    "     3 Pyhton is also used in Web development , Finance and trading , System automation and administration ,Computer graphics.\n",
    "     4 Almost all of the tasks done in Python requires less coding when the same task is done in other languages.\n",
    "     5 Python have humongous amount of built in libraries which we can use directly.\n",
    "     \n",
    "Q14. Memory management in Python involves a private heap containing all Python objects and data structures. The management of this private heap is ensured internally by the Python memory manager.\n",
    "\n",
    "Q15.How to install Python:\n",
    "Open a browser to the Python website and download the Windows installer. 2. Double click on the downloaded file and install Python for all users, and ensure that Python is added to your path. Click on Install now to begin.\n",
    "\n",
    "Set Path: \n",
    "The complete path of python.exe can be added by:\n",
    "1 Right-clicking This PC and going to Properties.\n",
    "2 Clicking on the Advanced system settings in the menu on the left.\n",
    "3 Clicking on the Environment Variables button o​n the bottom right.\n",
    "4 In the System variables section, selecting the Path variable and clicking on Edit.\n",
    "\n",
    "Q15. Yes indentation required in python"
   ]
  },
  {
   "cell_type": "code",
   "execution_count": null,
   "id": "2e31a7a6-80cb-4085-a0e6-cf421e6d07a1",
   "metadata": {},
   "outputs": [],
   "source": []
  },
  {
   "cell_type": "code",
   "execution_count": null,
   "id": "19007934-e5f6-4a6b-9bbe-b4bb168b3440",
   "metadata": {},
   "outputs": [],
   "source": []
  }
 ],
 "metadata": {
  "kernelspec": {
   "display_name": "Python 3 (ipykernel)",
   "language": "python",
   "name": "python3"
  },
  "language_info": {
   "codemirror_mode": {
    "name": "ipython",
    "version": 3
   },
   "file_extension": ".py",
   "mimetype": "text/x-python",
   "name": "python",
   "nbconvert_exporter": "python",
   "pygments_lexer": "ipython3",
   "version": "3.10.8"
  }
 },
 "nbformat": 4,
 "nbformat_minor": 5
}
