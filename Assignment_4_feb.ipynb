{
 "cells": [
  {
   "cell_type": "markdown",
   "id": "0e184cdd-6456-4343-a2e6-a000df9d90d9",
   "metadata": {},
   "source": [
    "Q1."
   ]
  },
  {
   "cell_type": "code",
   "execution_count": 23,
   "id": "13821b86-35ec-4ccb-bd7b-adebf01b5ff8",
   "metadata": {},
   "outputs": [
    {
     "ename": "TypeError",
     "evalue": "'x' is an invalid keyword argument for sort()",
     "output_type": "error",
     "traceback": [
      "\u001b[0;31m---------------------------------------------------------------------------\u001b[0m",
      "\u001b[0;31mTypeError\u001b[0m                                 Traceback (most recent call last)",
      "Cell \u001b[0;32mIn[23], line 2\u001b[0m\n\u001b[1;32m      1\u001b[0m l \u001b[38;5;241m=\u001b[39m [(\u001b[38;5;124m'\u001b[39m\u001b[38;5;124mSachin Tendulker\u001b[39m\u001b[38;5;124m'\u001b[39m , \u001b[38;5;241m34357\u001b[39m) , (\u001b[38;5;124m'\u001b[39m\u001b[38;5;124mRicky Ponting\u001b[39m\u001b[38;5;124m'\u001b[39m , \u001b[38;5;241m27483\u001b[39m) ,(\u001b[38;5;124m'\u001b[39m\u001b[38;5;124mJack Kallis\u001b[39m\u001b[38;5;124m'\u001b[39m , \u001b[38;5;241m25534\u001b[39m) , (\u001b[38;5;124m'\u001b[39m\u001b[38;5;124mVirat Kohli\u001b[39m\u001b[38;5;124m'\u001b[39m , \u001b[38;5;241m24936\u001b[39m)]\n\u001b[0;32m----> 2\u001b[0m \u001b[43ml\u001b[49m\u001b[38;5;241;43m.\u001b[39;49m\u001b[43msort\u001b[49m\u001b[43m(\u001b[49m\u001b[43mx\u001b[49m\u001b[38;5;241;43m=\u001b[39;49m\u001b[43m \u001b[49m\u001b[38;5;28;43;01mlambda\u001b[39;49;00m\u001b[43m \u001b[49m\u001b[43mx\u001b[49m\u001b[43m \u001b[49m\u001b[43m:\u001b[49m\u001b[43m \u001b[49m\u001b[43mx\u001b[49m\u001b[43m[\u001b[49m\u001b[38;5;241;43m1\u001b[39;49m\u001b[43m]\u001b[49m\u001b[43m)\u001b[49m\n",
      "\u001b[0;31mTypeError\u001b[0m: 'x' is an invalid keyword argument for sort()"
     ]
    }
   ],
   "source": [
    "l = [('Sachin Tendulker' , 34357) , ('Ricky Ponting' , 27483) ,('Jack Kallis' , 25534) , ('Virat Kohli' , 24936)]\n",
    "l.sort(x= lambda x : x[1])"
   ]
  },
  {
   "cell_type": "markdown",
   "id": "f00acd04-9ec1-4b9d-9e0e-65326545b365",
   "metadata": {},
   "source": [
    "Q2.\n"
   ]
  },
  {
   "cell_type": "code",
   "execution_count": 13,
   "id": "2d951c3d-c0e7-4018-8fb5-0e47586a0ce2",
   "metadata": {},
   "outputs": [
    {
     "data": {
      "text/plain": [
       "[1, 4, 9, 16, 25, 36, 49, 64, 81, 100]"
      ]
     },
     "execution_count": 13,
     "metadata": {},
     "output_type": "execute_result"
    }
   ],
   "source": [
    "l2 = [1,2,3,4,5,6,7,8,9,10]\n",
    "list(map(lambda x  : x*x , l))"
   ]
  },
  {
   "cell_type": "markdown",
   "id": "6162ae94-e162-4dff-b66e-da16e9218b74",
   "metadata": {},
   "source": [
    "Q3."
   ]
  },
  {
   "cell_type": "code",
   "execution_count": 14,
   "id": "698e8b8c-79af-4cba-bfa7-2d0f278d2f4c",
   "metadata": {},
   "outputs": [
    {
     "data": {
      "text/plain": [
       "('1', '2', '3', '4', '5', '6', '7', '8', '9', '10')"
      ]
     },
     "execution_count": 14,
     "metadata": {},
     "output_type": "execute_result"
    }
   ],
   "source": [
    "l3 = [1,2,3,4,5,6,7,8,9,10]\n",
    "tuple(map(lambda x : str(x) , l1))"
   ]
  },
  {
   "cell_type": "markdown",
   "id": "5e712527-8bff-4bda-a574-278bbb53ec45",
   "metadata": {},
   "source": [
    "Q4."
   ]
  },
  {
   "cell_type": "code",
   "execution_count": 19,
   "id": "adc815f7-00ca-4826-b0f0-99be5472c56a",
   "metadata": {},
   "outputs": [
    {
     "data": {
      "text/plain": [
       "15511210043330985984000000"
      ]
     },
     "execution_count": 19,
     "metadata": {},
     "output_type": "execute_result"
    }
   ],
   "source": [
    "from functools import reduce\n",
    "l4 = list(range(1,26))\n",
    "reduce(lambda x ,y : x*y ,l4)\n"
   ]
  },
  {
   "cell_type": "markdown",
   "id": "57da403d-46d1-4a76-a7a1-c6c9df007b83",
   "metadata": {},
   "source": [
    "Q5."
   ]
  },
  {
   "cell_type": "code",
   "execution_count": 20,
   "id": "116a8d67-0055-4b78-a166-4db492a85bc4",
   "metadata": {},
   "outputs": [
    {
     "data": {
      "text/plain": [
       "[6, 60, 90, 120]"
      ]
     },
     "execution_count": 20,
     "metadata": {},
     "output_type": "execute_result"
    }
   ],
   "source": [
    "l5 = [2,3,6,9,27,60,90,120,55,46]\n",
    "list(filter(lambda x : x%2==0 and x%3==0 , l5))"
   ]
  },
  {
   "cell_type": "markdown",
   "id": "1c38b57f-7b45-4abb-873d-d476f57ba1b6",
   "metadata": {},
   "source": [
    "Q6."
   ]
  },
  {
   "cell_type": "code",
   "execution_count": 22,
   "id": "eb4ae1e5-a03f-4cd4-93d4-15fd000fa2b1",
   "metadata": {},
   "outputs": [
    {
     "data": {
      "text/plain": [
       "['php', 'aba', 'radar', 'level']"
      ]
     },
     "execution_count": 22,
     "metadata": {},
     "output_type": "execute_result"
    }
   ],
   "source": [
    "l6 = ['python' , 'php' , 'aba' , 'radar' , 'level']\n",
    "list(filter(lambda x : x == x[::-1] , l6))"
   ]
  },
  {
   "cell_type": "code",
   "execution_count": null,
   "id": "64486115-c25f-4df4-9282-ac3a4709a65f",
   "metadata": {},
   "outputs": [],
   "source": []
  }
 ],
 "metadata": {
  "kernelspec": {
   "display_name": "Python 3 (ipykernel)",
   "language": "python",
   "name": "python3"
  },
  "language_info": {
   "codemirror_mode": {
    "name": "ipython",
    "version": 3
   },
   "file_extension": ".py",
   "mimetype": "text/x-python",
   "name": "python",
   "nbconvert_exporter": "python",
   "pygments_lexer": "ipython3",
   "version": "3.10.8"
  }
 },
 "nbformat": 4,
 "nbformat_minor": 5
}
