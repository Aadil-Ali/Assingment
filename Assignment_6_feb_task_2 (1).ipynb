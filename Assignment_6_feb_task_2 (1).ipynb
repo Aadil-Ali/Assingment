{
 "cells": [
  {
   "cell_type": "markdown",
   "id": "71147bbe",
   "metadata": {},
   "source": [
    "Q1.\n"
   ]
  },
  {
   "cell_type": "code",
   "execution_count": 1,
   "id": "0e696725",
   "metadata": {
    "scrolled": true
   },
   "outputs": [
    {
     "name": "stdout",
     "output_type": "stream",
     "text": [
      "Set Your Password : AAdil@_&78\n",
      "Congratulations You Successfully Set your Password\n"
     ]
    }
   ],
   "source": [
    "a,b,c,d = 0,0,0,0\n",
    "password = input(\"Set Your Password : \")\n",
    "if len(password) == 10:\n",
    "    for i in password:\n",
    "        if (i.islower()):\n",
    "            a =a+1\n",
    "            \n",
    "        if (i.isupper()):\n",
    "            b = b+1\n",
    "            \n",
    "        if (i.isnumeric()):\n",
    "            c = c+1\n",
    "            \n",
    "        if (i=='@' or i=='$' or i=='_' or i=='%' or i == '&' or i=='*'):\n",
    "            d = d+1\n",
    "            \n",
    "if (a>=2 and b>=2 and c>=1 and d>=3 and len(password)==a+b+c+d):\n",
    "    print(\"Congratulations You Successfully Set your Password\")\n",
    "    \n",
    "else:\n",
    "    print('Invalid Password Try Again')"
   ]
  },
  {
   "cell_type": "markdown",
   "id": "fb8d1278",
   "metadata": {},
   "source": [
    "Q2."
   ]
  },
  {
   "cell_type": "markdown",
   "id": "62a1eba3",
   "metadata": {},
   "source": [
    "1\n"
   ]
  },
  {
   "cell_type": "code",
   "execution_count": 2,
   "id": "c3740349",
   "metadata": {},
   "outputs": [
    {
     "name": "stdout",
     "output_type": "stream",
     "text": [
      "Write Something : Aadil\n",
      "True\n"
     ]
    }
   ],
   "source": [
    "string = input(\"Write Something : \" )\n",
    "\n",
    "# My starting word is A\n",
    "a = lambda string: string[0] == 'A' \n",
    "print(a(string))\n"
   ]
  },
  {
   "cell_type": "markdown",
   "id": "36e0173e",
   "metadata": {},
   "source": [
    "2"
   ]
  },
  {
   "cell_type": "code",
   "execution_count": 3,
   "id": "f36293b3",
   "metadata": {},
   "outputs": [
    {
     "name": "stdout",
     "output_type": "stream",
     "text": [
      "Write Something : 3452555\n",
      "True\n"
     ]
    }
   ],
   "source": [
    "string2 = input(\"Write Something : \" )\n",
    "\n",
    "b = lambda string2 : string2.isnumeric()\n",
    "print(b(string2))"
   ]
  },
  {
   "cell_type": "markdown",
   "id": "8f7d582a",
   "metadata": {},
   "source": [
    "3"
   ]
  },
  {
   "cell_type": "code",
   "execution_count": 4,
   "id": "5f624df3",
   "metadata": {},
   "outputs": [
    {
     "data": {
      "text/plain": [
       "[1, 4, 9, 16, 25, 36, 49, 64, 81, 100]"
      ]
     },
     "execution_count": 4,
     "metadata": {},
     "output_type": "execute_result"
    }
   ],
   "source": [
    "list1 = range(1,11)\n",
    "s = list(map(lambda a : a**2 , list1))\n",
    "s\n",
    "        "
   ]
  },
  {
   "cell_type": "code",
   "execution_count": 5,
   "id": "a7ff4ebd",
   "metadata": {},
   "outputs": [
    {
     "name": "stdout",
     "output_type": "stream",
     "text": [
      "Number : 4\n",
      "True\n"
     ]
    }
   ],
   "source": [
    "#4\n",
    "number = int(input(\"Number : \"))\n",
    "a = lambda a : a%2 == 0 \n",
    "print(a(number))\n"
   ]
  },
  {
   "cell_type": "code",
   "execution_count": 6,
   "id": "ca717007",
   "metadata": {},
   "outputs": [
    {
     "name": "stdout",
     "output_type": "stream",
     "text": [
      "[1, 3, 5, 7, 9]\n"
     ]
    }
   ],
   "source": [
    "#5\n",
    "\n",
    "l = [1,2,3,4,5,6,7,8,9,10]\n",
    "\n",
    "\n",
    "a = filter(lambda a : a%2 != 0 , l)\n",
    "print(list(a))"
   ]
  },
  {
   "cell_type": "code",
   "execution_count": 7,
   "id": "6d134730",
   "metadata": {},
   "outputs": [
    {
     "name": "stdout",
     "output_type": "stream",
     "text": [
      "[1, 2, 3, 4, 5, 6, 0]\n",
      "[-1, -2, -3, -4, -5]\n"
     ]
    }
   ],
   "source": [
    "#6 \n",
    "l = [1,2,3,4,5,6,-1,-2,-3,-4,-5,0]\n",
    "l1 = [i for i in l if i>=0]\n",
    "l2 = [i for i in l if i<0]\n",
    "print(l1)\n",
    "print(l2)"
   ]
  },
  {
   "cell_type": "code",
   "execution_count": null,
   "id": "0df63757",
   "metadata": {},
   "outputs": [],
   "source": []
  }
 ],
 "metadata": {
  "kernelspec": {
   "display_name": "Python 3 (ipykernel)",
   "language": "python",
   "name": "python3"
  },
  "language_info": {
   "codemirror_mode": {
    "name": "ipython",
    "version": 3
   },
   "file_extension": ".py",
   "mimetype": "text/x-python",
   "name": "python",
   "nbconvert_exporter": "python",
   "pygments_lexer": "ipython3",
   "version": "3.10.8"
  }
 },
 "nbformat": 4,
 "nbformat_minor": 5
}
