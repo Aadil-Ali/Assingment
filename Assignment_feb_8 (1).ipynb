{
 "cells": [
  {
   "cell_type": "markdown",
   "id": "924142e3",
   "metadata": {},
   "source": [
    "Q1. Abstraction is the process of hiding the internal details of an application from the outer world. Abstraction is used to describe things in simple terms. It's used to create a boundary between the application and the client programs."
   ]
  },
  {
   "cell_type": "code",
   "execution_count": 1,
   "id": "bdee1c17",
   "metadata": {},
   "outputs": [
    {
     "name": "stdout",
     "output_type": "stream",
     "text": [
      "The mileage is 30kmph\n",
      "The mileage is 27kmph \n",
      "The mileage is 25kmph \n",
      "The mileage is 24kmph \n"
     ]
    }
   ],
   "source": [
    "# abstract base class work   \n",
    "from abc import ABC, abstractmethod   \n",
    "class Car(ABC):   \n",
    "    def mileage(self):   \n",
    "        pass  \n",
    "  \n",
    "class Tesla(Car):   \n",
    "    def mileage(self):   \n",
    "        print(\"The mileage is 30kmph\")   \n",
    "class Suzuki(Car):   \n",
    "    def mileage(self):   \n",
    "        print(\"The mileage is 25kmph \")   \n",
    "class Duster(Car):   \n",
    "     def mileage(self):   \n",
    "          print(\"The mileage is 24kmph \")   \n",
    "  \n",
    "class Renault(Car):   \n",
    "    def mileage(self):   \n",
    "            print(\"The mileage is 27kmph \")   \n",
    "          \n",
    "# Driver code   \n",
    "t= Tesla ()   \n",
    "t.mileage()   \n",
    "  \n",
    "r = Renault()   \n",
    "r.mileage()   \n",
    "  \n",
    "s = Suzuki()   \n",
    "s.mileage()   \n",
    "d = Duster()   \n",
    "d.mileage() "
   ]
  },
  {
   "cell_type": "markdown",
   "id": "c6209c4e",
   "metadata": {},
   "source": [
    "Q2.  Encapsulation\n",
    "\n",
    "Encapsulation is binding the data members with member variables. This will avoid the direct access of variables, because direct access of variables may violate privacy, and hiding of the implementation will not be possible.\n",
    "\n",
    "Abstraction\n",
    "\n",
    "Abstraction is a process of hiding unnecessary data and showing only relevant data. Out of an ocean of data, we are only maintaining the transparency of some data to the user. This important concept in object-oriented programming will reduce the complexity of the code and increases the readability."
   ]
  },
  {
   "cell_type": "code",
   "execution_count": 3,
   "id": "2461294c",
   "metadata": {},
   "outputs": [
    {
     "name": "stdout",
     "output_type": "stream",
     "text": [
      "I am Steve\n",
      "I got Rank  1\n",
      "I am Chris\n",
      "I got Rank  2\n",
      "I am Mark\n",
      "I got Rank  3\n",
      "I am Kate\n",
      "I got Rank  4\n"
     ]
    }
   ],
   "source": [
    "# Encapsulation \n",
    "class Students:\n",
    "    def __init__(self, name, rank, points):\n",
    "        self.name = name\n",
    "        self.rank = rank\n",
    "        self.points = points\n",
    "\n",
    "        \n",
    "    def demofunc(self):\n",
    "        print(\"I am \"+self.name)\n",
    "        print(\"I got Rank \",+self.rank)\n",
    "\n",
    "st1 = Students(\"Steve\", 1, 100)\n",
    "st2 = Students(\"Chris\", 2, 90)\n",
    "st3 = Students(\"Mark\", 3, 76)\n",
    "st4 = Students(\"Kate\", 4, 60)\n",
    "\n",
    "\n",
    "st1.demofunc()\n",
    "st2.demofunc()\n",
    "st3.demofunc()\n",
    "st4.demofunc()"
   ]
  },
  {
   "cell_type": "code",
   "execution_count": 4,
   "id": "8fa8af56",
   "metadata": {},
   "outputs": [
    {
     "name": "stdout",
     "output_type": "stream",
     "text": [
      "I can walk and run\n",
      "I can crawl\n",
      "I can bark\n",
      "I can roar\n"
     ]
    }
   ],
   "source": [
    "# abstract base class work\n",
    " \n",
    "from abc import ABC, abstractmethod\n",
    "class Animal(ABC):\n",
    " \n",
    "    def move(self):\n",
    "        pass\n",
    " \n",
    "class Human(Animal):\n",
    " \n",
    "    def move(self):\n",
    "        print(\"I can walk and run\")\n",
    " \n",
    "class Snake(Animal):\n",
    " \n",
    "    def move(self):\n",
    "        print(\"I can crawl\")\n",
    " \n",
    "class Dog(Animal):\n",
    " \n",
    "    def move(self):\n",
    "        print(\"I can bark\")\n",
    " \n",
    "class Lion(Animal):\n",
    " \n",
    "    def move(self):\n",
    "        print(\"I can roar\")\n",
    "         \n",
    "# Driver code\n",
    "R = Human()\n",
    "R.move()\n",
    " \n",
    "K = Snake()\n",
    "K.move()\n",
    " \n",
    "R = Dog()\n",
    "R.move()\n",
    " \n",
    "K = Lion()\n",
    "K.move()"
   ]
  },
  {
   "cell_type": "markdown",
   "id": "0aa04fc1",
   "metadata": {},
   "source": [
    "Q3. This module provides the infrastructure for defining abstract base classes (ABCs) in Python."
   ]
  },
  {
   "cell_type": "code",
   "execution_count": 6,
   "id": "74b0946d",
   "metadata": {},
   "outputs": [
    {
     "name": "stdout",
     "output_type": "stream",
     "text": [
      "True\n"
     ]
    }
   ],
   "source": [
    "\n",
    "import abc\n",
    "  \n",
    "  \n",
    "class AbstractClass(metaclass=abc.ABCMeta):\n",
    "    def abstractfunc(self):\n",
    "        return None\n",
    "  \n",
    "  \n",
    "AbstractClass.register(dict)\n",
    "print(issubclass(dict, AbstractClass))"
   ]
  },
  {
   "cell_type": "markdown",
   "id": "22712316",
   "metadata": {},
   "source": [
    "Q4. In Python, abstraction can be achieved by having/using abstract classes and methods in our programs. Understanding Abstract Methods and Classes: An abstract method is a method that is declared, but does not contain implementation."
   ]
  },
  {
   "cell_type": "markdown",
   "id": "7169934e",
   "metadata": {},
   "source": [
    "Q5. Abstract classes cannot be instantiated, but they can be subclassed. When an abstract class is subclassed, the subclass usually provides implementations for all of the abstract methods in its parent class. However, if it does not, then the subclass must also be declared abstract ."
   ]
  },
  {
   "cell_type": "code",
   "execution_count": null,
   "id": "58070690",
   "metadata": {},
   "outputs": [],
   "source": []
  }
 ],
 "metadata": {
  "kernelspec": {
   "display_name": "Python 3 (ipykernel)",
   "language": "python",
   "name": "python3"
  },
  "language_info": {
   "codemirror_mode": {
    "name": "ipython",
    "version": 3
   },
   "file_extension": ".py",
   "mimetype": "text/x-python",
   "name": "python",
   "nbconvert_exporter": "python",
   "pygments_lexer": "ipython3",
   "version": "3.10.8"
  }
 },
 "nbformat": 4,
 "nbformat_minor": 5
}
