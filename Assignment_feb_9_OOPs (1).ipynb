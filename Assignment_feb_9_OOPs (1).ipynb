{
 "cells": [
  {
   "cell_type": "code",
   "execution_count": 1,
   "id": "ab681726",
   "metadata": {},
   "outputs": [
    {
     "data": {
      "text/plain": [
       "('Honda City', 250, '25 kmpl')"
      ]
     },
     "execution_count": 1,
     "metadata": {},
     "output_type": "execute_result"
    }
   ],
   "source": [
    "#1\n",
    "\n",
    "class vehicle:\n",
    "    def __init__(self, name_of_vehicle , max_speed , average_of_vehicle):\n",
    "        self.vehicle = name_of_vehicle\n",
    "        self.speed = max_speed\n",
    "        self.average = average_of_vehicle\n",
    "        \n",
    "    def get_data(self):\n",
    "        return self.vehicle ,self.speed ,self.average\n",
    "        \n",
    "Model = vehicle(\"Honda City\" , 250 , \"25 kmpl\")\n",
    "Model.get_data()\n"
   ]
  },
  {
   "cell_type": "code",
   "execution_count": 2,
   "id": "10d6a5ba",
   "metadata": {},
   "outputs": [
    {
     "data": {
      "text/plain": [
       "(5, 'Honda City')"
      ]
     },
     "execution_count": 2,
     "metadata": {},
     "output_type": "execute_result"
    }
   ],
   "source": [
    "#2 \n",
    "\n",
    "class car(vehicle):\n",
    "    def seating_capacity(self , seating_capacity):\n",
    "        self.seating_capacity = seating_capacity\n",
    "        \n",
    "    def get_car(self):\n",
    "        return self.seating_capacity ,self.vehicle\n",
    "    \n",
    "model_cap = car(\"Honda City\" , 250 , \"25 kmpl\")\n",
    "model_cap.seating_capacity(5)\n",
    "model_cap.get_car()\n"
   ]
  },
  {
   "cell_type": "markdown",
   "id": "70b892f3",
   "metadata": {},
   "source": [
    "#3 \n",
    "\n",
    "When a drive class inharite data from more than one base classes then this method called multiple inharitance."
   ]
  },
  {
   "cell_type": "code",
   "execution_count": 3,
   "id": "25f2df13",
   "metadata": {},
   "outputs": [],
   "source": [
    "#Example\n",
    "\n",
    "class base1():\n",
    "    def name(self):\n",
    "        print(\"Aadil Ali\")\n",
    "        \n",
    "    \n",
    "class base2():\n",
    "     def age(self):\n",
    "        print(\"23\")\n",
    "        \n",
    "    \n",
    "class derive(base1,base2):\n",
    "    def number(self):\n",
    "        print(\"number\")\n",
    "        \n",
    "    "
   ]
  },
  {
   "cell_type": "code",
   "execution_count": 4,
   "id": "29224aba",
   "metadata": {},
   "outputs": [
    {
     "name": "stdout",
     "output_type": "stream",
     "text": [
      "23\n",
      "Aadil Ali\n"
     ]
    }
   ],
   "source": [
    "s3 = derive()\n",
    "s3.age()\n",
    "s3.name()"
   ]
  },
  {
   "cell_type": "markdown",
   "id": "ec32e2da",
   "metadata": {},
   "source": [
    "Q4.\n",
    "\n",
    "Setter is a method of properity decorator. It is used to set or change the values of private mambers in init method inside a class.\n",
    "\n",
    "Getter is also a method of properity decorator which is used to get ta data of private mamber "
   ]
  },
  {
   "cell_type": "code",
   "execution_count": 5,
   "id": "e28654f5",
   "metadata": {},
   "outputs": [],
   "source": [
    "#Example\n",
    "\n",
    "class account():\n",
    "    \n",
    "    def __init__(self , name , balance):\n",
    "        self._balance = balance\n",
    "        self.name = name\n",
    "        \n",
    "    @property\n",
    "    def balance_detail(self):\n",
    "        return self._balance\n",
    "    \n",
    "    @balance_detail.setter\n",
    "    def balance_set(self , new_balance):\n",
    "       \n",
    "             self._balance = new_balance\n",
    "     \n",
    "       \n",
    "       \n",
    "    @balance_detail.getter\n",
    "    def balance_data(self):\n",
    "        return self._balance\n",
    "    \n",
    "    \n",
    "        "
   ]
  },
  {
   "cell_type": "code",
   "execution_count": 6,
   "id": "32dd9636",
   "metadata": {},
   "outputs": [],
   "source": [
    "aadil = account(\"aadil\" ,100000)"
   ]
  },
  {
   "cell_type": "code",
   "execution_count": 7,
   "id": "35c67c09",
   "metadata": {},
   "outputs": [
    {
     "data": {
      "text/plain": [
       "100000"
      ]
     },
     "execution_count": 7,
     "metadata": {},
     "output_type": "execute_result"
    }
   ],
   "source": [
    "aadil.balance_detail\n",
    "\n"
   ]
  },
  {
   "cell_type": "code",
   "execution_count": 8,
   "id": "4a9851f7",
   "metadata": {},
   "outputs": [],
   "source": [
    "aadil.balance_set = 786786\n"
   ]
  },
  {
   "cell_type": "code",
   "execution_count": 9,
   "id": "a9151e98",
   "metadata": {},
   "outputs": [
    {
     "data": {
      "text/plain": [
       "786786"
      ]
     },
     "execution_count": 9,
     "metadata": {},
     "output_type": "execute_result"
    }
   ],
   "source": [
    "aadil.balance_detail"
   ]
  },
  {
   "cell_type": "markdown",
   "id": "ac01ec30",
   "metadata": {},
   "source": [
    "Q5. \n",
    "When parante class and child class have same method name and return type it is call method overriding. "
   ]
  },
  {
   "cell_type": "code",
   "execution_count": 10,
   "id": "1c6be623",
   "metadata": {},
   "outputs": [
    {
     "name": "stdout",
     "output_type": "stream",
     "text": [
      "Inside parent class\n",
      "Inside child class\n"
     ]
    }
   ],
   "source": [
    "class parent():\n",
    "    def __init__(self):\n",
    "        self.value = \"Inside parent class\"\n",
    "        \n",
    "    def get(self):\n",
    "        return self.value\n",
    "    \n",
    "class child():\n",
    "    def __init__(self):\n",
    "        self.value = \"Inside child class\"\n",
    "        \n",
    "    def get(self):\n",
    "        return self.value \n",
    "    \n",
    "obj1 = parent()\n",
    "obj2 = child()\n",
    "\n",
    "print(obj1.get())\n",
    "print(obj2.get())"
   ]
  },
  {
   "cell_type": "code",
   "execution_count": null,
   "id": "e2e99c2e",
   "metadata": {},
   "outputs": [],
   "source": []
  },
  {
   "cell_type": "code",
   "execution_count": null,
   "id": "09a3b399",
   "metadata": {},
   "outputs": [],
   "source": []
  }
 ],
 "metadata": {
  "kernelspec": {
   "display_name": "Python 3 (ipykernel)",
   "language": "python",
   "name": "python3"
  },
  "language_info": {
   "codemirror_mode": {
    "name": "ipython",
    "version": 3
   },
   "file_extension": ".py",
   "mimetype": "text/x-python",
   "name": "python",
   "nbconvert_exporter": "python",
   "pygments_lexer": "ipython3",
   "version": "3.10.8"
  }
 },
 "nbformat": 4,
 "nbformat_minor": 5
}
