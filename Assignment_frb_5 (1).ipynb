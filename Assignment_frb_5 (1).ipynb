{
 "cells": [
  {
   "cell_type": "markdown",
   "id": "825b7d0b-1ded-40fd-b56f-e66d86444bc7",
   "metadata": {},
   "source": [
    "Q1.\n",
    "Classes are user define data types that act as a blueprint for induvidual object or methods.\n",
    "\n",
    "Object are instance or variable of a class which is created by us when we want to use class methods.\n"
   ]
  },
  {
   "cell_type": "code",
   "execution_count": 8,
   "id": "5b0daab8-6d18-4258-a4c9-2e87259a53a2",
   "metadata": {},
   "outputs": [],
   "source": [
    "class student :\n",
    "    def __init__(self , Student_name , Student_email , Student_id):\n",
    "        self.Student_name = Student_name\n",
    "        self.Student_email = Student_email\n",
    "        self.Student_id = Student_id\n",
    "    def return_details(self):\n",
    "        return self.Student_email, self.Student_id,self.Student_name"
   ]
  },
  {
   "cell_type": "code",
   "execution_count": 9,
   "id": "89f1031f-0185-402b-9a53-ef759441cee5",
   "metadata": {},
   "outputs": [
    {
     "data": {
      "text/plain": [
       "('aadilansari123456@gmil.com', 16827, 'Aadil Ali')"
      ]
     },
     "execution_count": 9,
     "metadata": {},
     "output_type": "execute_result"
    }
   ],
   "source": [
    "Aadil = student(\"Aadil Ali\" , \"aadilansari123456@gmil.com\" , 16827)\n",
    "Aadil.return_details()"
   ]
  },
  {
   "cell_type": "markdown",
   "id": "53552630-14f1-4901-b21b-d903f4773325",
   "metadata": {},
   "source": [
    "Q2."
   ]
  },
  {
   "cell_type": "markdown",
   "id": "5ebb5e5d-7c35-47ba-945c-88bf8681170b",
   "metadata": {},
   "source": [
    "Inheritance \n",
    "Polymorphism \n",
    "Encapsulation\n",
    "Abstraction "
   ]
  },
  {
   "cell_type": "markdown",
   "id": "b36497b0-6610-45d5-a5b7-09e2b4aa4451",
   "metadata": {},
   "source": [
    "Q3. \n",
    "__init__ fuction is used to take input from user when we crete a object."
   ]
  },
  {
   "cell_type": "code",
   "execution_count": 10,
   "id": "7b4324c7-0bfa-4135-aac2-f21c1aba290d",
   "metadata": {},
   "outputs": [
    {
     "data": {
      "text/plain": [
       "('Aadil', 23)"
      ]
     },
     "execution_count": 10,
     "metadata": {},
     "output_type": "execute_result"
    }
   ],
   "source": [
    "#Example \n",
    "class name :\n",
    "    def __init__(self , name , age):\n",
    "        self.name = name\n",
    "        self.age = age\n",
    "        \n",
    "    def return_name(self):\n",
    "        return self.name , self.age\n",
    "student1 = name(\"Aadil\" , 23)\n",
    "student1.return_name()"
   ]
  },
  {
   "cell_type": "markdown",
   "id": "beda53de-e28c-42d4-87c1-865f2a02281a",
   "metadata": {},
   "source": [
    "Q4. \n",
    "\n",
    "Self is just an agrumet we need to give whenever we create a method in class and try to access tha data of that method form the help of object.\n",
    "If we don't give this agrument compiler will show error massage. \n",
    "This is not compulsory that we should use 'self' word we can use any word."
   ]
  },
  {
   "cell_type": "markdown",
   "id": "dee21e56-fe58-48a5-a3e8-de9646b5b129",
   "metadata": {},
   "source": [
    "Q5. \n",
    "\n",
    "Inheritance in python is a mechanism in which one object acquires all the properties and behaviors of a parent object."
   ]
  },
  {
   "cell_type": "markdown",
   "id": "e195f480",
   "metadata": {},
   "source": [
    "Single Inheritance: \n",
    "Single inheritance enables a derived class to inherit properties from a single parent class, thus enabling code reusability and the addition of new features to existing code.\n",
    "\n",
    "\n",
    "Multiple Inheritance: \n",
    "When a class can be derived from more than one base class this type of inheritance is called multiple inheritances. In multiple inheritances, all the features of the base classes are inherited into the derived class. \n",
    "\n",
    "\n",
    "\n",
    "Multilevel Inheritance :\n",
    "In multilevel inheritance, features of the base class and the derived class are further inherited into the new derived class. This is similar to a relationship representing a child and a grandfather. \n",
    "\n",
    "\n",
    "Hierarchical Inheritance: \n",
    "When more than one derived class are created from a single base this type of inheritance is called hierarchical inheritance. In this program, we have a parent (base) class and two child (derived) classes.\n",
    "\n",
    "\n",
    "Hybrid Inheritance: \n",
    "Inheritance consisting of multiple types of inheritance is called hybrid inheritance.\n"
   ]
  },
  {
   "cell_type": "code",
   "execution_count": 11,
   "id": "5c74315e",
   "metadata": {},
   "outputs": [
    {
     "name": "stdout",
     "output_type": "stream",
     "text": [
      "parent class.\n",
      "child class.\n"
     ]
    }
   ],
   "source": [
    "# Single inheritance\n",
    " \n",
    "# Base class\n",
    "class Parent:\n",
    "    def f1(self):\n",
    "        print(\"parent class.\")\n",
    " \n",
    "# Derived class\n",
    " \n",
    " \n",
    "class Child(Parent):\n",
    "    def f2(self):\n",
    "        print(\"child class.\")\n",
    " \n",
    " \n",
    "# Driver's code\n",
    "object = Child()\n",
    "object.f1()\n",
    "object.f2()"
   ]
  },
  {
   "cell_type": "code",
   "execution_count": 12,
   "id": "85d43adc",
   "metadata": {},
   "outputs": [
    {
     "name": "stdout",
     "output_type": "stream",
     "text": [
      "Father : RAM\n",
      "Mother : SITA\n"
     ]
    }
   ],
   "source": [
    "# multiple inheritance\n",
    " \n",
    "# Base class1\n",
    "class Mother:\n",
    "    mothername = \"\"\n",
    " \n",
    "    def mother(self):\n",
    "        print(self.mothername)\n",
    " \n",
    "\n",
    " \n",
    "class Father:\n",
    "    fathername = \"\"\n",
    " \n",
    "    def father(self):\n",
    "        print(self.fathername)\n",
    " \n",
    " \n",
    "class Son(Mother, Father):\n",
    "    def parents(self):\n",
    "        print(\"Father :\", self.fathername)\n",
    "        print(\"Mother :\", self.mothername)\n",
    " \n",
    " \n",
    "# Driver's code\n",
    "s1 = Son()\n",
    "s1.fathername = \"RAM\"\n",
    "s1.mothername = \"SITA\"\n",
    "s1.parents()"
   ]
  },
  {
   "cell_type": "code",
   "execution_count": 13,
   "id": "11325b82",
   "metadata": {},
   "outputs": [
    {
     "name": "stdout",
     "output_type": "stream",
     "text": [
      "Lal mani\n",
      "Grandfather name : Lal mani\n",
      "Father name : Rampal\n",
      "Son name : Prince\n"
     ]
    }
   ],
   "source": [
    "# multilevel inheritance\n",
    "\n",
    " \n",
    "class Grandfather:\n",
    " \n",
    "    def __init__(self, grandfathername):\n",
    "        self.grandfathername = grandfathername\n",
    "  \n",
    " \n",
    "class Father(Grandfather):\n",
    "    def __init__(self, fathername, grandfathername):\n",
    "        self.fathername = fathername\n",
    " \n",
    "       \n",
    "        Grandfather.__init__(self, grandfathername)\n",
    "        \n",
    "class Son(Father):\n",
    "    def __init__(self, sonname, fathername, grandfathername):\n",
    "        self.sonname = sonname\n",
    " \n",
    "        \n",
    "        Father.__init__(self, fathername, grandfathername)\n",
    " \n",
    "    def print_name(self):\n",
    "        print('Grandfather name :', self.grandfathername)\n",
    "        print(\"Father name :\", self.fathername)\n",
    "        print(\"Son name :\", self.sonname)\n",
    " \n",
    " \n",
    "\n",
    "s1 = Son('Prince', 'Rampal', 'Lal mani')\n",
    "print(s1.grandfathername)\n",
    "s1.print_name()"
   ]
  },
  {
   "cell_type": "code",
   "execution_count": 14,
   "id": "92fbb0a9",
   "metadata": {},
   "outputs": [
    {
     "name": "stdout",
     "output_type": "stream",
     "text": [
      "This function is in parent class.\n",
      "This function is in child 1.\n",
      "This function is in parent class.\n",
      "This function is in child 2.\n"
     ]
    }
   ],
   "source": [
    "# Hierarchical inheritance\n",
    " \n",
    "class Parent:\n",
    "    def func1(self):\n",
    "        print(\"This function is in parent class.\")\n",
    "\n",
    "class Child1(Parent):\n",
    "    def func2(self):\n",
    "        print(\"This function is in child 1.\")\n",
    "        \n",
    "class Child2(Parent):\n",
    "    def func3(self):\n",
    "        print(\"This function is in child 2.\")\n",
    " \n",
    " \n",
    "\n",
    "object1 = Child1()\n",
    "object2 = Child2()\n",
    "object1.func1()\n",
    "object1.func2()\n",
    "object2.func1()\n",
    "object2.func3()"
   ]
  },
  {
   "cell_type": "code",
   "execution_count": 15,
   "id": "7a6aab96",
   "metadata": {},
   "outputs": [
    {
     "name": "stdout",
     "output_type": "stream",
     "text": [
      "This function is in school.\n",
      "This function is in student 1. \n"
     ]
    }
   ],
   "source": [
    "# hybrid inheritance\n",
    "\n",
    "class School:\n",
    "    def func1(self):\n",
    "        print(\"This function is in school.\")\n",
    " \n",
    " \n",
    "class Student1(School):\n",
    "    def func2(self):\n",
    "        print(\"This function is in student 1. \")\n",
    " \n",
    " \n",
    "class Student2(School):\n",
    "    def func3(self):\n",
    "        print(\"This function is in student 2.\")\n",
    " \n",
    " \n",
    "class Student3(Student1, School):\n",
    "    def func4(self):\n",
    "        print(\"This function is in student 3.\")\n",
    "\n",
    "object = Student3()\n",
    "object.func1()\n",
    "object.func2()"
   ]
  },
  {
   "cell_type": "code",
   "execution_count": null,
   "id": "9457658b",
   "metadata": {},
   "outputs": [],
   "source": []
  },
  {
   "cell_type": "code",
   "execution_count": null,
   "id": "dc08d6ad",
   "metadata": {},
   "outputs": [],
   "source": []
  },
  {
   "cell_type": "code",
   "execution_count": null,
   "id": "621cfd67",
   "metadata": {},
   "outputs": [],
   "source": []
  }
 ],
 "metadata": {
  "kernelspec": {
   "display_name": "Python 3 (ipykernel)",
   "language": "python",
   "name": "python3"
  },
  "language_info": {
   "codemirror_mode": {
    "name": "ipython",
    "version": 3
   },
   "file_extension": ".py",
   "mimetype": "text/x-python",
   "name": "python",
   "nbconvert_exporter": "python",
   "pygments_lexer": "ipython3",
   "version": "3.10.8"
  }
 },
 "nbformat": 4,
 "nbformat_minor": 5
}
