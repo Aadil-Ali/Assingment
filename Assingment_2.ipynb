{
 "cells": [
  {
   "cell_type": "markdown",
   "id": "38964e08-30c6-44de-8ba1-9a4d17866151",
   "metadata": {},
   "source": [
    "Q1. For loop is used when the number of itertion is already known.\n"
   ]
  },
  {
   "cell_type": "code",
   "execution_count": 1,
   "id": "d67bab3d-b97b-428b-b907-d1c82736a400",
   "metadata": {},
   "outputs": [
    {
     "name": "stdout",
     "output_type": "stream",
     "text": [
      "Input list elements:\n",
      "10\n",
      "20\n",
      "30\n",
      "40\n",
      "50\n"
     ]
    }
   ],
   "source": [
    "#Example\n",
    "inputList = [10, 20, 30, 40, 50]\n",
    "print(\"Input list elements:\")\n",
    "for element in inputList:\n",
    "   print(element)"
   ]
  },
  {
   "cell_type": "markdown",
   "id": "4ee6d9c2-82f0-43c2-9819-8f0bf8921bdd",
   "metadata": {},
   "source": [
    "While loop is used when the number of iteration in unknown."
   ]
  },
  {
   "cell_type": "code",
   "execution_count": 3,
   "id": "d2410848-d751-4069-99f8-43e554aeccc5",
   "metadata": {},
   "outputs": [
    {
     "name": "stdout",
     "output_type": "stream",
     "text": [
      "1\n",
      "2\n",
      "3\n",
      "4\n",
      "5\n",
      "6\n",
      "7\n",
      "8\n",
      "9\n"
     ]
    }
   ],
   "source": [
    "#Example\n",
    "i=1\n",
    "while i < 10:\n",
    "    print(i)\n",
    "    i += 1 "
   ]
  },
  {
   "cell_type": "markdown",
   "id": "73922be0-c706-466b-beb2-818ec773fa9f",
   "metadata": {},
   "source": [
    "Q2. Sum and Product of first 10 natural number "
   ]
  },
  {
   "cell_type": "code",
   "execution_count": 16,
   "id": "ef0c8c85-bf15-40cf-884c-c57e3715060a",
   "metadata": {},
   "outputs": [
    {
     "name": "stdout",
     "output_type": "stream",
     "text": [
      "0\n",
      "1\n",
      "3\n",
      "6\n",
      "10\n",
      "15\n",
      "21\n",
      "28\n",
      "36\n",
      "45\n",
      "Sum of N numbers is: 45\n",
      "1\n",
      "2\n",
      "6\n",
      "24\n",
      "120\n",
      "720\n",
      "5040\n",
      "40320\n",
      "362880\n",
      "3628800\n",
      "Sum of N numbers is: 3628800\n"
     ]
    }
   ],
   "source": [
    "#Using For Loop\n",
    "#Sum\n",
    "sum = 0\n",
    "for i in range(10):\n",
    "    sum = i+sum  \n",
    "    print(sum)\n",
    "print(\"Sum of N numbers using for loop is:\",sum)\n",
    "\n",
    "#Product\n",
    "sum = 1\n",
    "for i in range(1,11):\n",
    "    sum = i*sum  \n",
    "    print(sum)\n",
    "print(\"Product of N numbers using for loop is:\",sum)\n",
    "    "
   ]
  },
  {
   "cell_type": "code",
   "execution_count": 19,
   "id": "fe27e872-4618-4f3c-9694-576af67cf9eb",
   "metadata": {},
   "outputs": [
    {
     "name": "stdout",
     "output_type": "stream",
     "text": [
      "0\n",
      "1\n",
      "3\n",
      "6\n",
      "10\n",
      "15\n",
      "21\n",
      "28\n",
      "36\n",
      "45\n",
      "Sum of N numbers using for loop is: 45\n",
      "1\n",
      "2\n",
      "6\n",
      "24\n",
      "120\n",
      "720\n",
      "5040\n",
      "40320\n",
      "362880\n",
      "3628800\n",
      "Sum of N numbers using for loop is: 3628800\n"
     ]
    }
   ],
   "source": [
    "#Using While Loop\n",
    "#Sum \n",
    "\n",
    "i = 0\n",
    "sum =0\n",
    "while(i<10):\n",
    "    sum = sum+i\n",
    "    i = i+1\n",
    "    print(sum)\n",
    "print(\"Sum of N numbers using while loop is:\",sum)\n",
    "\n",
    "#Product\n",
    "i = 1\n",
    "sum =1\n",
    "while(i<11):\n",
    "    sum = sum*i\n",
    "    i = i+1\n",
    "    print(sum)\n",
    "print(\"Product of N numbers using while loop is:\",sum)"
   ]
  },
  {
   "cell_type": "markdown",
   "id": "fed6ee8b-b3f3-432a-b4ed-21d8fe86498e",
   "metadata": {},
   "source": [
    "Q3."
   ]
  },
  {
   "cell_type": "code",
   "execution_count": 69,
   "id": "c9488625-1de1-4d59-ab79-4cbf172e6586",
   "metadata": {},
   "outputs": [
    {
     "name": "stdin",
     "output_type": "stream",
     "text": [
      "How much unit :  310\n"
     ]
    },
    {
     "name": "stdout",
     "output_type": "stream",
     "text": [
      "2250.0\n"
     ]
    }
   ],
   "source": [
    "unit = int(input(\"How much unit : \"))\n",
    "amount = 0\n",
    "if unit<101:\n",
    "    amount = unit*4.5\n",
    "elif unit>100 and unit<201:\n",
    "    amount = 100*4.5 + (unit-100)*6\n",
    "    \n",
    "elif unit>200 and unit<301:\n",
    "    amount =  100*4.5 + 100*6 + (unit-200)*10\n",
    "    \n",
    "elif unit>300:\n",
    "    amount = 100*4.5 + 100*6 + 100*10 + (unit-300)*20\n",
    "print(amount)\n",
    "    "
   ]
  },
  {
   "cell_type": "markdown",
   "id": "cc355989-7a57-4a9f-a110-f9d30ebf6d4b",
   "metadata": {},
   "source": [
    "Q4. "
   ]
  },
  {
   "cell_type": "code",
   "execution_count": 39,
   "id": "1aa05e0b-4307-4ec6-acea-0c68a6bc50c1",
   "metadata": {},
   "outputs": [
    {
     "name": "stdout",
     "output_type": "stream",
     "text": [
      "[8, 64, 125, 216, 512, 1000, 1728, 2744, 3375, 4096, 5832, 8000, 10648, 13824, 15625, 17576, 21952, 27000, 32768, 39304, 42875, 46656, 54872, 64000, 74088, 85184, 91125, 97336, 110592, 125000, 140608, 157464, 166375, 175616, 195112, 216000, 238328, 262144, 274625, 287496, 314432, 343000, 373248, 405224, 421875, 438976, 474552, 512000, 551368, 592704, 614125, 636056, 681472, 729000, 778688, 830584, 857375, 884736, 941192, 1000000]\n"
     ]
    }
   ],
   "source": [
    "# for loop \n",
    "l = list(range(1,101))\n",
    "l1 = []\n",
    "for i in l:\n",
    "    cube = i*i*i\n",
    "    if (cube%4==0) or (cube%5==0):\n",
    "        l1.append(cube)\n",
    "    else:\n",
    "        continue\n",
    "print(l1)"
   ]
  },
  {
   "cell_type": "code",
   "execution_count": 52,
   "id": "9484a626-a236-4327-b3d7-2126dd5e29d8",
   "metadata": {},
   "outputs": [
    {
     "name": "stdout",
     "output_type": "stream",
     "text": [
      "[8, 64, 125, 216, 512, 1000, 1728, 2744, 3375, 4096, 5832, 8000, 10648, 13824, 15625, 17576, 21952, 27000, 32768, 39304, 42875, 46656, 54872, 64000, 74088, 85184, 91125, 97336, 110592, 125000, 140608, 157464, 166375, 175616, 195112, 216000, 238328, 262144, 274625, 287496, 314432, 343000, 373248, 405224, 421875, 438976, 474552, 512000, 551368, 592704, 614125, 636056, 681472, 729000, 778688, 830584, 857375, 884736, 941192, 1000000]\n"
     ]
    }
   ],
   "source": [
    "#While Loop\n",
    "l = list(range(1,101))\n",
    "l1 = []\n",
    "i = 1\n",
    "while (i<len(l)+1):\n",
    "    cube = i*i*i\n",
    "    if (cube%4==0) or (cube%5==0):\n",
    "        l1.append(cube)\n",
    "        i = i+1\n",
    "    else:\n",
    "        i = i+1\n",
    "        continue\n",
    "print(l1)"
   ]
  },
  {
   "cell_type": "markdown",
   "id": "b96f97f3-ac85-4a46-a9a3-a61c6ea9ce6c",
   "metadata": {},
   "source": [
    "Q5. "
   ]
  },
  {
   "cell_type": "code",
   "execution_count": 68,
   "id": "d5e96335-301d-45f6-8932-7e04fbea5950",
   "metadata": {},
   "outputs": [
    {
     "name": "stdout",
     "output_type": "stream",
     "text": [
      "12\n"
     ]
    }
   ],
   "source": [
    "vowel = set(\"aeiouAEIOU\")\n",
    "count = 0\n",
    "string = \"I want to become a data scientist\"\n",
    "\n",
    "for alpha in string:\n",
    "    if alpha in vowel:\n",
    "        count = count+1\n",
    "\n",
    "print(count)"
   ]
  },
  {
   "cell_type": "code",
   "execution_count": null,
   "id": "d4bb68c5-1777-4477-b7f6-5da9250b198a",
   "metadata": {},
   "outputs": [],
   "source": []
  }
 ],
 "metadata": {
  "kernelspec": {
   "display_name": "Python 3 (ipykernel)",
   "language": "python",
   "name": "python3"
  },
  "language_info": {
   "codemirror_mode": {
    "name": "ipython",
    "version": 3
   },
   "file_extension": ".py",
   "mimetype": "text/x-python",
   "name": "python",
   "nbconvert_exporter": "python",
   "pygments_lexer": "ipython3",
   "version": "3.10.8"
  }
 },
 "nbformat": 4,
 "nbformat_minor": 5
}
