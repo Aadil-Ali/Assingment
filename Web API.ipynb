{
 "cells": [
  {
   "cell_type": "markdown",
   "id": "941c77d7",
   "metadata": {},
   "source": [
    "Q1\n",
    "\n",
    "API (Application Programming Interface) is a way for two or more programmes communicate with each other. It is a type of software interface offering a service to other peice of software.\n",
    "Example : The weather bureau's software system contains daily weather data. "
   ]
  },
  {
   "cell_type": "markdown",
   "id": "e5165e69",
   "metadata": {},
   "source": [
    "\n",
    "Q2.\n",
    "\n",
    "Advantage of using API \n",
    "1) An integration An example of an integration is to push notifications from your product (such as CRM, Helpdesk) to a messaging tool such as Slack. In this way, if your customer uses Slack they can receive notifications without having to login directly to your system or check emails.\n",
    "\n",
    "2) New functionality In the early days of Twitter, some of the most popular Twitter clients were produced by third parties using the Twitter API. Twitter and its users benefited from the new functionality that was undertaken by other companies.\n",
    "\n",
    "The disadvantages of Using API are,\n",
    "\n",
    "1) Cost Providing an API is expensive in terms of development time, ongoing maintenance.\n",
    "\n",
    "2) providing API documentation on your website and providing support to users of your API.\n",
    "   Security exposure. Adding an API adds another attack surface to your website"
   ]
  },
  {
   "cell_type": "markdown",
   "id": "f9b91266",
   "metadata": {},
   "source": [
    "Q3\n",
    "\n",
    "A web API is an application programming interface for either a web server or a web browser. As a web development concept, it can be related to a web application's client side.\n",
    "\n",
    "APIs and Web Services: Similar, but Not Identical\n",
    "Both APIs and web services are technologies that enable the transfer of data between separate software applications. API is an interface that exposes an application's data to outside software, whereas web applications are one type of API with stricter requirements\n",
    "\n"
   ]
  },
  {
   "cell_type": "markdown",
   "id": "60740ecc",
   "metadata": {},
   "source": [
    "Q4\n",
    "\n",
    "SOAP : The SOAP web services architecture is based on interactions between three components: a service provider, a service requester, and an optional service registry. A SOAP message is encoded as an XML document, consisting of an <Envelope> element, which contains an optional <Header> element, and a mandatory <Body> element.\n",
    "    \n",
    "REST : The Representational State Transfer (REST) architectural style is a worldview that elevates information into a first-class element of architectures. REST allows us to achieve the architectural properties of performance, scalability, generality, simplicity, modifiability, and extensibility.\n",
    "    \n",
    "Challenges/limitations in SOAP\n",
    "As SOAP can only transfer messages as XML files, your SOAP API will be less performant, as XML is a verbose format compared to JSON. API calls made to your server will need more bandwidth and it will take more time to process the request and transfer the response back to the client.\n",
    "    \n",
    "\n",
    "    \n",
    "    \n",
    "\n"
   ]
  },
  {
   "cell_type": "markdown",
   "id": "c656774f",
   "metadata": {},
   "source": [
    "Q5.\n",
    "1) SOAP stands for Simple Object Access Protocol and REST stands for Representational State Transfer.\n",
    "\n",
    "2) Since SOAP is a protocol, it follows a strict standard to allow communication between the client and the server whereas REST is an architectural style that doesn’t follow any strict standard but follows six constraints defined by Roy Fielding in 2000. Those constraints are – Uniform Interface, Client-Server, Stateless, Cacheable, Layered System, Code on Demand.\n",
    "\n",
    "3) SOAP uses only XML for exchanging information in its message format whereas REST is not restricted to XML and its the choice of implementer which Media-Type to use like XML, JSON, Plain-text. Moreover, REST can use SOAP protocol but SOAP cannot use REST.\n",
    "\n",
    "4) On behalf of services interfaces to business logic, SOAP uses @WebService whereas REST instead of using interfaces uses URI like @Path.\n",
    "\n",
    "5) SOAP is difficult to implement and it requires more bandwidth whereas REST is easy to implement and requires less bandwidth such as smartphones.\n",
    "\n",
    "6) Benefits of SOAP over REST as SOAP has ACID compliance transaction. Some of the applications require transaction ability which is accepted by SOAP whereas REST lacks in it.\n",
    "\n",
    "7) On the basis of Security, SOAP has SSL( Secure Socket Layer) and WS-security whereas REST has SSL and HTTPS. In the case of Bank Account Password, Card Number, etc. SOAP is preferred over REST. The security issue is all about your application requirement, you have to build security on your own. It’s about what type of protocol you use.\n",
    "\n",
    "8) SOAP cannot make use of REST since SOAP is a protocol without any architectural pattern. REST can make use of SOAP because it is an architectural pattern having protocol."
   ]
  },
  {
   "cell_type": "code",
   "execution_count": null,
   "id": "f32fbc5f",
   "metadata": {},
   "outputs": [],
   "source": []
  }
 ],
 "metadata": {
  "kernelspec": {
   "display_name": "Python 3 (ipykernel)",
   "language": "python",
   "name": "python3"
  },
  "language_info": {
   "codemirror_mode": {
    "name": "ipython",
    "version": 3
   },
   "file_extension": ".py",
   "mimetype": "text/x-python",
   "name": "python",
   "nbconvert_exporter": "python",
   "pygments_lexer": "ipython3",
   "version": "3.10.8"
  }
 },
 "nbformat": 4,
 "nbformat_minor": 5
}
