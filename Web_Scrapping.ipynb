{
 "cells": [
  {
   "cell_type": "markdown",
   "id": "8afc2194",
   "metadata": {},
   "source": [
    "Q1.\n",
    "\n",
    "Web scraping, web harvesting, or web data extraction is data scraping used for extracting data from websites. Web scraping software may directly access the World Wide Web using the Hypertext Transfer Protocol or a web browser.\n",
    "\n",
    "Web scraping is used in a variety of digital businesses that rely on data harvesting. Legitimate use cases include: Search engine bots crawling a site, analyzing its content and then ranking it. Price comparison sites deploying bots to auto-fetch prices and product descriptions for allied seller websites.\n",
    "\n",
    "Three Areas of Web Scraping\n",
    "\n",
    "1. Lead Generation for Marketing\n",
    "A web scraping software can be used to generate leads for marketing. Email and Phone lists for cold outreach can be built by scraping the data from relevant websites. For example, business contact details like phone number and email address can be scraped from yellow pages websites or from Google Maps business listings.\n",
    "\n",
    "\n",
    "2. Price Comparison & Competition Monitoring\n",
    "Companies catering products or services need to have comprehensive data of competitor products and services which appear in the market every day. A web scraping software can be used to keep a constant watch on this data.\n",
    "\n",
    "3. E-Commerce\n",
    "Web Scraping can be used to periodically extract data of products from various e-commerce websites like Amazon, eBay, Google Shopping etc. Product details like price, description, images, reviews, rating etc. can be easily extracted using a web scraping software.\n"
   ]
  },
  {
   "cell_type": "markdown",
   "id": "587f9dcf",
   "metadata": {},
   "source": [
    "Q2.\n",
    "1) Human copy-and-paste. The simplest form of web scraping is manually copying and pasting data from a web page into a text file or spreadsheet. \n",
    "\n",
    "2) Text pattern matching. \n",
    "\n",
    "3) HTTP programming. \n",
    "\n",
    "4) HTML parsing.\n",
    "\n",
    "5) DOM parsing. \n",
    "\n",
    "6) Vertical aggregation. \n",
    "\n",
    "7) Semantic annotation recognizing. \n",
    "\n",
    "8) Computer vision web-page analysis."
   ]
  },
  {
   "cell_type": "markdown",
   "id": "27d2b9be",
   "metadata": {},
   "source": [
    "Q3.\n",
    "\n",
    "Beautiful Soup is a Python package for parsing HTML and XML documents. It creates a parse tree for parsed pages that can be used to extract data from HTML, which is useful for web scraping.\n",
    "\n",
    "It creates a parse tree for parsed pages that can be used to extract data from HTML, which is useful for web scraping."
   ]
  },
  {
   "cell_type": "markdown",
   "id": "7a11982a",
   "metadata": {},
   "source": [
    "Q4.\n",
    "Flask is a lightweight framework to build websites. We'll use this to parse our collected data and display it as HTML in a new HTML file. The requests module allows us to send http requests to the website we want to scrape. The first line imports the Flask class and the render_template method from the flask library."
   ]
  },
  {
   "cell_type": "markdown",
   "id": "9fc208c0",
   "metadata": {},
   "source": [
    "Q5.\n",
    "\n",
    "AWS Elastic Beanstalk is an orchestration service offered by Amazon Web Services for deploying applications which orchestrates various AWS services, including EC2, S3, Simple Notification Service, CloudWatch, autoscaling, and Elastic Load Balancers.\n",
    "\n",
    "\n",
    "AWS Data Pipeline is a web service that helps you reliably process and move data between different AWS compute and storage services, as well as on-premises data sources, at specified intervals.\n"
   ]
  },
  {
   "cell_type": "code",
   "execution_count": null,
   "id": "451fa2d6",
   "metadata": {},
   "outputs": [],
   "source": []
  }
 ],
 "metadata": {
  "kernelspec": {
   "display_name": "Python 3 (ipykernel)",
   "language": "python",
   "name": "python3"
  },
  "language_info": {
   "codemirror_mode": {
    "name": "ipython",
    "version": 3
   },
   "file_extension": ".py",
   "mimetype": "text/x-python",
   "name": "python",
   "nbconvert_exporter": "python",
   "pygments_lexer": "ipython3",
   "version": "3.10.8"
  }
 },
 "nbformat": 4,
 "nbformat_minor": 5
}
