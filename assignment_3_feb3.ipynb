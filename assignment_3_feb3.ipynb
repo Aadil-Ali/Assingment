{
 "cells": [
  {
   "cell_type": "markdown",
   "id": "f8ba2c9b-e21b-4f92-a82b-30b9958c292d",
   "metadata": {},
   "source": [
    "Q1. def keyword is use to create a fuction "
   ]
  },
  {
   "cell_type": "code",
   "execution_count": 6,
   "id": "2a8e620e-d6fc-42db-97d6-eef31c36132c",
   "metadata": {},
   "outputs": [],
   "source": [
    "def odd():\n",
    "    l = range(1,26)\n",
    "    l1 = []\n",
    "    for i in l:\n",
    "        if i%2!=0:\n",
    "            l1.append(i)\n",
    "        else:\n",
    "            continue\n",
    "    print(l1)"
   ]
  },
  {
   "cell_type": "code",
   "execution_count": 7,
   "id": "d692e570-15d5-450b-9b0f-a2e496edc419",
   "metadata": {},
   "outputs": [
    {
     "name": "stdout",
     "output_type": "stream",
     "text": [
      "[1, 3, 5, 7, 9, 11, 13, 15, 17, 19, 21, 23, 25]\n"
     ]
    }
   ],
   "source": [
    "odd()"
   ]
  },
  {
   "cell_type": "markdown",
   "id": "c505c06c-ea67-4ffc-8cfb-653cebc3b224",
   "metadata": {},
   "source": [
    "Q2. *arg is used to take multiple agruments in function and it will store all argument in a tuple.\n",
    "\n",
    "**kwarg is used to take key , value pair in function and it will store all arguments in dictionary format."
   ]
  },
  {
   "cell_type": "code",
   "execution_count": 8,
   "id": "0f3a5ce3-0604-4253-9637-dea63b408f86",
   "metadata": {},
   "outputs": [
    {
     "data": {
      "text/plain": [
       "(2, 3, 4, 5, 2, 'hello', 'Aadil Ali')"
      ]
     },
     "execution_count": 8,
     "metadata": {},
     "output_type": "execute_result"
    }
   ],
   "source": [
    "def arg(*args):\n",
    "    return args\n",
    "arg(2,3,4,5,2,\"hello\",\"Aadil Ali\")"
   ]
  },
  {
   "cell_type": "code",
   "execution_count": 15,
   "id": "55b12dee-c420-4098-b94d-d1fa858357d5",
   "metadata": {},
   "outputs": [
    {
     "data": {
      "text/plain": [
       "{'a': 'one', 'b': 'two', 'c': 'three'}"
      ]
     },
     "execution_count": 15,
     "metadata": {},
     "output_type": "execute_result"
    }
   ],
   "source": [
    "def kwargs(**kwargs):\n",
    "    return kwargs\n",
    "kwargs(a ='one' , b ='two' , c ='three')"
   ]
  },
  {
   "cell_type": "markdown",
   "id": "fd12c636-b673-4632-8ac5-5f28efd1271f",
   "metadata": {},
   "source": [
    "Q3. Repetitve execution of the same block of code over and over is called iteration. Python use this iteration in for loop."
   ]
  },
  {
   "cell_type": "code",
   "execution_count": null,
   "id": "61bfa4b1-29df-4156-8a2b-2e80db31d59d",
   "metadata": {},
   "outputs": [],
   "source": [
    "l = [2,4,6,8,10,12,14,16,18,20]\n",
    "for i in l:\n",
    "    if i == l[5]:\n",
    "        break\n",
    "    else: \n",
    "        print(i)"
   ]
  },
  {
   "cell_type": "markdown",
   "id": "5bcb4d90-f5cf-4d48-a89b-d528b89b3775",
   "metadata": {},
   "source": [
    "Q4.  A generator-function is defined like a normal function, but whenever it needs to generate a value, it does so with the yield keyword rather than return. If the body of a def contains yield, the function automatically becomes a generator function. \n",
    "\n",
    "Yield keywork is used in python because it controls the flow of generator function and it's similer to return fuction used to return the values in python."
   ]
  },
  {
   "cell_type": "code",
   "execution_count": 9,
   "id": "1affe05d-d741-44cf-8ec2-fee8fa787aac",
   "metadata": {},
   "outputs": [
    {
     "name": "stdout",
     "output_type": "stream",
     "text": [
      "1\n",
      "2\n",
      "3\n",
      "4\n",
      "5\n"
     ]
    }
   ],
   "source": [
    "\n",
    "def gen(x):\n",
    "    i = 1\n",
    "    while i<=x:\n",
    "        yield i\n",
    "        i = i+1\n",
    "\n",
    "g = gen(5)\n",
    "\n",
    "for value in g:\n",
    "    print(value)\n",
    "    "
   ]
  },
  {
   "cell_type": "markdown",
   "id": "83d325f7-e4eb-4b03-bebf-6e2eb5242014",
   "metadata": {},
   "source": [
    "Q6. \n"
   ]
  },
  {
   "cell_type": "code",
   "execution_count": 13,
   "id": "ccc2171d-22cf-4f20-b19c-827c0a2cfd34",
   "metadata": {},
   "outputs": [
    {
     "name": "stdout",
     "output_type": "stream",
     "text": [
      "0\n",
      "1\n",
      "1\n",
      "2\n",
      "3\n",
      "5\n",
      "8\n",
      "13\n",
      "21\n",
      "34\n"
     ]
    }
   ],
   "source": [
    "# First 10 febonacci series\n",
    "a,b = 0,1\n",
    "i = 0\n",
    "while i<10:\n",
    "    print(a)\n",
    "            \n",
    "    a , b = b , a+b\n",
    "    i = i+1\n",
    "    \n",
    "    "
   ]
  },
  {
   "cell_type": "markdown",
   "id": "54528132-c914-41c8-99c7-f365d5281cc0",
   "metadata": {},
   "source": [
    "Q7. "
   ]
  },
  {
   "cell_type": "code",
   "execution_count": 4,
   "id": "793555b0-b0e0-4394-82c3-a8ac0f195475",
   "metadata": {},
   "outputs": [
    {
     "data": {
      "text/plain": [
       "['P', 'W', 'S', 'K', 'I', 'L', 'L', 'S']"
      ]
     },
     "execution_count": 4,
     "metadata": {},
     "output_type": "execute_result"
    }
   ],
   "source": [
    "string = \"pwskills\"\n",
    "list(map(lambda x : x.upper() , string))\n",
    "\n"
   ]
  },
  {
   "cell_type": "markdown",
   "id": "325ef064-c83a-4bce-8236-da9a50033f5f",
   "metadata": {},
   "source": [
    "Q8."
   ]
  },
  {
   "cell_type": "code",
   "execution_count": 8,
   "id": "24feaf3f-d3cb-4ce8-9215-34e5a959048b",
   "metadata": {},
   "outputs": [
    {
     "name": "stdin",
     "output_type": "stream",
     "text": [
      "Enter the number:  454\n"
     ]
    },
    {
     "name": "stdout",
     "output_type": "stream",
     "text": [
      "Palindrop\n"
     ]
    }
   ],
   "source": [
    "x = input(\"Enter the number: \")\n",
    "if x == x[::-1]:\n",
    "    print(\"Palindrop\")\n",
    "else:\n",
    "    print(\"Not a Palindrom Number\")"
   ]
  },
  {
   "cell_type": "markdown",
   "id": "bd99501f-d31b-4445-9fc8-955cb0925df1",
   "metadata": {},
   "source": [
    "Q9. "
   ]
  },
  {
   "cell_type": "code",
   "execution_count": 49,
   "id": "5d8e7b6a-074e-4b25-9766-b30faf7c2a6f",
   "metadata": {},
   "outputs": [
    {
     "data": {
      "text/plain": [
       "[1,\n",
       " 3,\n",
       " 5,\n",
       " 7,\n",
       " 9,\n",
       " 11,\n",
       " 13,\n",
       " 15,\n",
       " 17,\n",
       " 19,\n",
       " 21,\n",
       " 23,\n",
       " 25,\n",
       " 27,\n",
       " 29,\n",
       " 31,\n",
       " 33,\n",
       " 35,\n",
       " 37,\n",
       " 39,\n",
       " 41,\n",
       " 43,\n",
       " 45,\n",
       " 47,\n",
       " 49,\n",
       " 51,\n",
       " 53,\n",
       " 55,\n",
       " 57,\n",
       " 59,\n",
       " 61,\n",
       " 63,\n",
       " 65,\n",
       " 67,\n",
       " 69,\n",
       " 71,\n",
       " 73,\n",
       " 75,\n",
       " 77,\n",
       " 79,\n",
       " 81,\n",
       " 83,\n",
       " 85,\n",
       " 87,\n",
       " 89,\n",
       " 91,\n",
       " 93,\n",
       " 95,\n",
       " 97,\n",
       " 99]"
      ]
     },
     "execution_count": 49,
     "metadata": {},
     "output_type": "execute_result"
    }
   ],
   "source": [
    "odd = range(100)\n",
    "l1 = []\n",
    "\n",
    "for i in odd:\n",
    "    if i%2!=0:\n",
    "        l1.append(i)\n",
    "    else:\n",
    "        continue\n",
    "        \n",
    "l1\n",
    "        "
   ]
  },
  {
   "cell_type": "code",
   "execution_count": null,
   "id": "ce463214-a082-4aec-b66d-9853e20d9409",
   "metadata": {},
   "outputs": [],
   "source": []
  },
  {
   "cell_type": "code",
   "execution_count": null,
   "id": "6155f728-9357-4fa0-ac53-0d23d3106a42",
   "metadata": {},
   "outputs": [],
   "source": []
  }
 ],
 "metadata": {
  "kernelspec": {
   "display_name": "Python 3 (ipykernel)",
   "language": "python",
   "name": "python3"
  },
  "language_info": {
   "codemirror_mode": {
    "name": "ipython",
    "version": 3
   },
   "file_extension": ".py",
   "mimetype": "text/x-python",
   "name": "python",
   "nbconvert_exporter": "python",
   "pygments_lexer": "ipython3",
   "version": "3.10.8"
  }
 },
 "nbformat": 4,
 "nbformat_minor": 5
}
