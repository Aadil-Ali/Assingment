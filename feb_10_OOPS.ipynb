{
 "cells": [
  {
   "cell_type": "markdown",
   "id": "8afbf1bd",
   "metadata": {},
   "source": [
    "#Q1.\n",
    "\n",
    "open(\"File name\" , 'Mode') This function is used to open a file.\n",
    "We can open a file in so many diffrent modes like \n",
    "'r': Open for Read Mode\n",
    "'w': open for writing, truncating the file first\n",
    "'x': create a new file and open it for writing\n",
    "'a': open for writing, appending to the end of the file if it exists\n",
    "'b': binary mode\n",
    "'t': text mode (default)\n",
    "'+': open a disk file for updating (reading and writing)\n",
    "'U': universal newline mode (deprecated)\n",
    "    "
   ]
  },
  {
   "cell_type": "markdown",
   "id": "1ffd0043",
   "metadata": {},
   "source": [
    "Q2.\n",
    "\n",
    "close() function is used to close a open file in python \n",
    "\n",
    "Because files are limited resources managed by the operating system, making sure files are closed after use will protect against hard-to-debug issues like running out of file handles or experiencing corrupted data."
   ]
  },
  {
   "cell_type": "code",
   "execution_count": 1,
   "id": "3cd4b165",
   "metadata": {},
   "outputs": [
    {
     "name": "stdout",
     "output_type": "stream",
     "text": [
      "I want to become a data scentist\n"
     ]
    }
   ],
   "source": [
    "#Q3 \n",
    "f = open(\"New.txt\" , 'w')\n",
    "f.write(\"I want to become a data scentist\")\n",
    "f.close()\n",
    "f = open(\"New.txt\" , 'r')\n",
    "\n",
    "print(f.read())\n",
    "\n"
   ]
  },
  {
   "cell_type": "markdown",
   "id": "17f1a495",
   "metadata": {},
   "source": [
    "Q4\n",
    "\n",
    "read() will read the whole file at once and then print out the first characters that take up as many bytes as you specify in the parenthesis.\n",
    "\n",
    "readline() that will read and print out only the first characters that take up as many bytes as you specify in the parenthesis.\n",
    "\n",
    "readlines() method will return all the lines in a file in the format of a list where each element is a line in the file.\n",
    "\n",
    "\n"
   ]
  },
  {
   "cell_type": "code",
   "execution_count": 2,
   "id": "ae7c24a8",
   "metadata": {},
   "outputs": [
    {
     "name": "stdout",
     "output_type": "stream",
     "text": [
      "A paragraph is defined as “a group of sentences or a single sentence that forms a unit” (Lunsford and Connors 116). Length and appearance do not determine whether a section in a paper is a paragraph. For instance, in some styles of writing, particularly journalistic styles, a paragraph can be just one sentence long.\n"
     ]
    }
   ],
   "source": [
    "#Code\n",
    "f = open(\"Text1.txt\" , 'w')\n",
    "f.write(\"A paragraph is defined as “a group of sentences or a single sentence that forms a unit” (Lunsford and Connors 116). Length and appearance do not determine whether a section in a paper is a paragraph. For instance, in some styles of writing, particularly journalistic styles, a paragraph can be just one sentence long.\")\n",
    "f.close()\n",
    "f = open(\"Text1.txt\" , 'r')\n",
    "print(f.read())\n",
    "\n"
   ]
  },
  {
   "cell_type": "code",
   "execution_count": 3,
   "id": "80cd6ae9",
   "metadata": {},
   "outputs": [
    {
     "name": "stdout",
     "output_type": "stream",
     "text": [
      "A paragraph is defined as “a group of sentences or a single sentence that forms a unit” (Lunsford and Connors 116). Length and appearance do not determine whether a section in a paper is a paragraph. For instance, in some styles of writing, particularly journalistic styles, a paragraph can be just one sentence long.\n"
     ]
    }
   ],
   "source": [
    "#Code\n",
    "f1 = open(\"Text2.txt\" , 'w')\n",
    "f1.write(\"A paragraph is defined as “a group of sentences or a single sentence that forms a unit” (Lunsford and Connors 116). Length and appearance do not determine whether a section in a paper is a paragraph. For instance, in some styles of writing, particularly journalistic styles, a paragraph can be just one sentence long.\")\n",
    "f1.close()\n",
    "f1 = open(\"Text2.txt\" , 'r')\n",
    "print(f1.readline())"
   ]
  },
  {
   "cell_type": "code",
   "execution_count": 4,
   "id": "690d706f",
   "metadata": {},
   "outputs": [
    {
     "name": "stdout",
     "output_type": "stream",
     "text": [
      "['A paragraph is defined as “a group of sentences or a single sentence that forms a unit” (Lunsford and Connors 116). Length and appearance do not determine whether a section in a paper is a paragraph. For instance, in some styles of writing, particularly journalistic styles, a paragraph can be just one sentence long.']\n"
     ]
    }
   ],
   "source": [
    "#code\n",
    "f2 = open(\"Text3.txt\" , 'w')\n",
    "f2.write(\"A paragraph is defined as “a group of sentences or a single sentence that forms a unit” (Lunsford and Connors 116). Length and appearance do not determine whether a section in a paper is a paragraph. For instance, in some styles of writing, particularly journalistic styles, a paragraph can be just one sentence long.\")\n",
    "f2.close()\n",
    "f2 = open(\"Text3.txt\" , 'r')\n",
    "print(f2.readlines())"
   ]
  },
  {
   "cell_type": "markdown",
   "id": "1fa7efe8",
   "metadata": {},
   "source": [
    "Q5\n",
    "The with statement works with the open() function to open a file. Unlike open() where you have to close the file with the close() method, the with statement closes the file for you without you telling it to."
   ]
  },
  {
   "cell_type": "markdown",
   "id": "e4ff6e7b",
   "metadata": {},
   "source": [
    "Q6 \n",
    "The write() method writes a specified text to the file. Where the specified text will be inserted depends on the file mode and stream position.\n",
    "\n"
   ]
  },
  {
   "cell_type": "code",
   "execution_count": 5,
   "id": "b9abc480",
   "metadata": {},
   "outputs": [
    {
     "name": "stdout",
     "output_type": "stream",
     "text": [
      "I want to become a data scentist\n"
     ]
    }
   ],
   "source": [
    "f = open(\"New.txt\" , 'w')\n",
    "f.write(\"I want to become a data scentist\")\n",
    "f.close()\n",
    "f = open(\"New.txt\" , 'r')\n",
    "\n",
    "print(f.read())\n"
   ]
  },
  {
   "cell_type": "markdown",
   "id": "fe93bf87",
   "metadata": {},
   "source": [
    "The writelines() method writes the items of a list to the file.Where the texts will be inserted depends on the file mode and stream position.\n",
    "\n",
    "\"a\":  The texts will be inserted at the current file stream position, default at the end of the file.\n",
    "\n",
    "\"w\": The file will be emptied before the texts will be inserted at the current file stream position, default 0."
   ]
  },
  {
   "cell_type": "code",
   "execution_count": null,
   "id": "a4a71b4e",
   "metadata": {},
   "outputs": [],
   "source": []
  }
 ],
 "metadata": {
  "kernelspec": {
   "display_name": "Python 3 (ipykernel)",
   "language": "python",
   "name": "python3"
  },
  "language_info": {
   "codemirror_mode": {
    "name": "ipython",
    "version": 3
   },
   "file_extension": ".py",
   "mimetype": "text/x-python",
   "name": "python",
   "nbconvert_exporter": "python",
   "pygments_lexer": "ipython3",
   "version": "3.10.8"
  }
 },
 "nbformat": 4,
 "nbformat_minor": 5
}
