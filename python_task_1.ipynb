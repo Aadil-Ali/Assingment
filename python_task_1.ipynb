{
 "cells": [
  {
   "cell_type": "code",
   "execution_count": 2,
   "id": "b4cabfd0",
   "metadata": {},
   "outputs": [
    {
     "data": {
      "text/plain": [
       "[1,\n",
       " 2,\n",
       " 3,\n",
       " 4,\n",
       " [44, 55, 66, True],\n",
       " False,\n",
       " (34, 56, 78, 89, 34),\n",
       " {1, 2, 3},\n",
       " {1: 34, 'key2': [55, 67, 78, 89], 4: (45, 22, 61, 34)},\n",
       " [56, 'data science'],\n",
       " 'Machine lerning']"
      ]
     },
     "execution_count": 2,
     "metadata": {},
     "output_type": "execute_result"
    }
   ],
   "source": [
    "list1 = [1,2,3,4 ,[44,55,66,True], False , (34,56,78,89,34) , {1,2,3,3,2,1} , {1:34 , \"key2\" : [55,67,78,89] , 4: (45,22,61,34)} , [56, 'data science'] , 'Machine lerning']\n",
    "list1\n"
   ]
  },
  {
   "cell_type": "code",
   "execution_count": 3,
   "id": "7482e0d7",
   "metadata": {},
   "outputs": [
    {
     "name": "stdout",
     "output_type": "stream",
     "text": [
      "List2 After Filter\n",
      "[1, 2, 3, 4, 44, 55, 66, 34, 56, 78, 89, 34, 1, 2, 3, 34, 55, 67, 78, 89, 45, 22, 61, 34, 1, 4, 56]\n",
      "Product of all number in List2 is : 4134711838987085478833841242112000\n"
     ]
    }
   ],
   "source": [
    "list2 = []\n",
    "list3 = []\n",
    "for i in list1:\n",
    "    if type(i) == int:\n",
    "        list2.append(i)\n",
    "        \n",
    "    elif type(i) == list:\n",
    "        for j in i:\n",
    "            if type(j) == int:\n",
    "                list2.append(j)\n",
    "            else:\n",
    "                list3.append(j)\n",
    "                \n",
    "    elif type(i) == tuple:\n",
    "        for k in i:\n",
    "            if type(k) == int:\n",
    "                list2.append(k)\n",
    "            else:\n",
    "                list3.append(k)\n",
    "                \n",
    "    elif type(i) == set:\n",
    "        i = list(i)\n",
    "        for l in i:\n",
    "            if type(l) == int:\n",
    "                list2.append(l)\n",
    "            else:\n",
    "                list3.append(l)\n",
    "                \n",
    "    elif type(i) == dict:\n",
    "        for m in i.values() :\n",
    "            if type(m) == int:\n",
    "                list2.append(m)\n",
    "            elif type(m) == list:\n",
    "                for n in m:\n",
    "                    if type(n) == int:\n",
    "                        list2.append(n)\n",
    "                    else:\n",
    "                        list3.append(n)\n",
    "            elif type(m) == tuple:\n",
    "                for o in m:\n",
    "                    if type(o) == int:\n",
    "                        list2.append(o)\n",
    "                    else:\n",
    "                        list3.append(o)\n",
    "                        \n",
    "        for p in i.keys() :\n",
    "            if type(p) == int:\n",
    "                list2.append(p)\n",
    "            elif type(p) == list:\n",
    "                for q in p:\n",
    "                    if type(q) == int:\n",
    "                        list2.append(q)\n",
    "                    else:\n",
    "                        list3.append(q)\n",
    "            elif type(p) == tuple:\n",
    "                for r in p:\n",
    "                    if type(r) == int:\n",
    "                        list2.append(r)\n",
    "                    else:\n",
    "                        list3.append(r)\n",
    "                \n",
    "        \n",
    "            \n",
    "           \n",
    "    else :\n",
    "        list3.append(i)\n",
    "        \n",
    "print(\"List2 After Filter\")\n",
    "print(list2)\n",
    "\n",
    "        \n",
    "result = 1\n",
    "for p in list2:\n",
    "    \n",
    "    result = result * p\n",
    "    \n",
    "print(\"Product of all number in List2 is :\" , result)"
   ]
  },
  {
   "cell_type": "code",
   "execution_count": 7,
   "id": "d1ac6788",
   "metadata": {},
   "outputs": [
    {
     "name": "stdout",
     "output_type": "stream",
     "text": [
      "Write your Santance = i what to become a data scientist\n",
      " Your Sentance is :  i what to become a data scientist\n",
      "After Encoding : r$wszt$to$yvxonv$z$wztz$sxrvntrst\n"
     ]
    }
   ],
   "source": [
    "sentance = input(\"Write your Santance = \")\n",
    "\n",
    "print(\" Your Sentance is : \" , sentance)\n",
    "lower = sentance.lower()\n",
    "s1 = lower.replace(\" \" , '$' ,-1)\n",
    "s2 = s1.replace('a' , 'z' ,-1)\n",
    "s3 = s2.replace('b' , 'y' ,-1)\n",
    "s4 = s3.replace('c' , 'x' ,-1)\n",
    "s5 = s4.replace('d' , 'w' ,-1)\n",
    "s6 = s5.replace('e' , 'v' ,-1)\n",
    "s7 = s6.replace('f' , 'u' ,-1)\n",
    "s8 = s7.replace('g' , 't' ,-1)\n",
    "s9 = s8.replace('h' , 's' ,-1)\n",
    "s10 = s9.replace('i' , 'r' ,-1)\n",
    "s11 = s10.replace('j' , 'q' ,-1)\n",
    "s12 = s11.replace('k' , 'p' ,-1)\n",
    "s13 = s12.replace('l' , 'o' ,-1)\n",
    "s14 = s13.replace('m' , 'n' ,-1)\n",
    "\n",
    "\n",
    "\n",
    "\n",
    "print(\"After Encoding :\" , s14)\n"
   ]
  },
  {
   "cell_type": "code",
   "execution_count": null,
   "id": "1209b53b",
   "metadata": {},
   "outputs": [],
   "source": []
  },
  {
   "cell_type": "code",
   "execution_count": null,
   "id": "1cde1f8d",
   "metadata": {},
   "outputs": [],
   "source": []
  },
  {
   "cell_type": "code",
   "execution_count": null,
   "id": "3f928a49",
   "metadata": {},
   "outputs": [],
   "source": []
  },
  {
   "cell_type": "code",
   "execution_count": null,
   "id": "6bf4a5dd",
   "metadata": {},
   "outputs": [],
   "source": []
  },
  {
   "cell_type": "code",
   "execution_count": null,
   "id": "c1451e21",
   "metadata": {},
   "outputs": [],
   "source": []
  },
  {
   "cell_type": "code",
   "execution_count": null,
   "id": "d77e2d31",
   "metadata": {},
   "outputs": [],
   "source": []
  }
 ],
 "metadata": {
  "kernelspec": {
   "display_name": "Python 3 (ipykernel)",
   "language": "python",
   "name": "python3"
  },
  "language_info": {
   "codemirror_mode": {
    "name": "ipython",
    "version": 3
   },
   "file_extension": ".py",
   "mimetype": "text/x-python",
   "name": "python",
   "nbconvert_exporter": "python",
   "pygments_lexer": "ipython3",
   "version": "3.10.8"
  }
 },
 "nbformat": 4,
 "nbformat_minor": 5
}
